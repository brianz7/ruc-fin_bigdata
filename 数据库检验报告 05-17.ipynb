{
 "cells": [
  {
   "cell_type": "code",
   "execution_count": 30,
   "metadata": {},
   "outputs": [],
   "source": [
    "#!pip install pymysql #安装数据库所需的包"
   ]
  },
  {
   "cell_type": "code",
   "execution_count": null,
   "metadata": {},
   "outputs": [],
   "source": [
    "#!pip install rqdatac #安装米筐所需的包"
   ]
  },
  {
   "cell_type": "code",
   "execution_count": 2,
   "metadata": {},
   "outputs": [],
   "source": [
    "import pymysql\n",
    "import pandas as pd"
   ]
  },
  {
   "cell_type": "code",
   "execution_count": 3,
   "metadata": {},
   "outputs": [],
   "source": [
    "from rqdatac import *\n",
    "import rqdatac as rq\n",
    "\n",
    "# rq.init('手机号', '密码')\n",
    "rq.init('13132503161', '138ricezhao')"
   ]
  },
  {
   "cell_type": "markdown",
   "metadata": {},
   "source": [
    "### 一、使用上证50指数2020-01-04至2020-05-04的数据作为例子，检验两个数据是否一致"
   ]
  },
  {
   "cell_type": "code",
   "execution_count": 4,
   "metadata": {},
   "outputs": [],
   "source": [
    "sql=''' select * from  cn_stock_index.daily_quote where index_code=\"000016\"\n",
    "        and trade_date between \"2020-01-04 00:00:00\" and \"2020-05-04 23:59:59\" '''"
   ]
  },
  {
   "cell_type": "markdown",
   "metadata": {},
   "source": [
    "创建提取数据库数据的函数，每次写好sql之后可直接提取。\n",
    "由于间隔过长时与数据库的连接会断开，在每次获取数据之后关闭连接。"
   ]
  },
  {
   "cell_type": "code",
   "execution_count": 5,
   "metadata": {},
   "outputs": [],
   "source": [
    "def retrieve_data(sql): # 创建连接数据库提取数据的函数\n",
    "    conn = pymysql.connect(\n",
    "                host = '172.19.3.249',\n",
    "                port = 3306,\n",
    "                user ='ktruc002' ,\n",
    "                passwd = '35442fed',\n",
    "                db = 'cn_bond',\n",
    "                charset = 'gbk'\n",
    "            )\n",
    "    data_sql=pd.read_sql(sql, con= conn)\n",
    "    print('success')\n",
    "    conn.close()\n",
    "    return data_sql"
   ]
  },
  {
   "cell_type": "code",
   "execution_count": 6,
   "metadata": {},
   "outputs": [
    {
     "name": "stdout",
     "output_type": "stream",
     "text": [
      "success\n"
     ]
    }
   ],
   "source": [
    "data1=retrieve_data(sql)\n",
    "data1.dropna(axis=1,how='any',inplace=True)"
   ]
  },
  {
   "cell_type": "markdown",
   "metadata": {},
   "source": [
    "首先检视数据shape，判断是否一致"
   ]
  },
  {
   "cell_type": "code",
   "execution_count": 9,
   "metadata": {},
   "outputs": [
    {
     "data": {
      "text/plain": [
       "(77, 17)"
      ]
     },
     "execution_count": 9,
     "metadata": {},
     "output_type": "execute_result"
    }
   ],
   "source": [
    "data1.shape"
   ]
  },
  {
   "cell_type": "code",
   "execution_count": 10,
   "metadata": {},
   "outputs": [],
   "source": [
    "data1rq=rq.get_price('000016.XSHG', start_date='2020-01-04', end_date='2020-05-04', frequency='1d')"
   ]
  },
  {
   "cell_type": "code",
   "execution_count": 11,
   "metadata": {},
   "outputs": [
    {
     "data": {
      "text/plain": [
       "(77, 7)"
      ]
     },
     "execution_count": 11,
     "metadata": {},
     "output_type": "execute_result"
    }
   ],
   "source": [
    "data1rq.shape"
   ]
  },
  {
   "cell_type": "markdown",
   "metadata": {},
   "source": [
    "两组数据均为77条记录，则直接处理数据并判断是否相同"
   ]
  },
  {
   "cell_type": "code",
   "execution_count": 12,
   "metadata": {},
   "outputs": [],
   "source": [
    "data1=data1[['open','last']]   #选取需要的数据列\n",
    "data1rq=data1rq[['open','close']]"
   ]
  },
  {
   "cell_type": "code",
   "execution_count": 13,
   "metadata": {},
   "outputs": [],
   "source": [
    "def cleanup(df,columns): #定义函数处理dataframe，使行与列标签相同，方便下一步比较\n",
    "    df=df.reset_index(drop=True)\n",
    "    df.columns=columns\n",
    "    return df"
   ]
  },
  {
   "cell_type": "code",
   "execution_count": 14,
   "metadata": {},
   "outputs": [
    {
     "data": {
      "text/html": [
       "<div>\n",
       "<style scoped>\n",
       "    .dataframe tbody tr th:only-of-type {\n",
       "        vertical-align: middle;\n",
       "    }\n",
       "\n",
       "    .dataframe tbody tr th {\n",
       "        vertical-align: top;\n",
       "    }\n",
       "\n",
       "    .dataframe thead th {\n",
       "        text-align: right;\n",
       "    }\n",
       "</style>\n",
       "<table border=\"1\" class=\"dataframe\">\n",
       "  <thead>\n",
       "    <tr style=\"text-align: right;\">\n",
       "      <th></th>\n",
       "      <th>open</th>\n",
       "      <th>close</th>\n",
       "    </tr>\n",
       "    <tr>\n",
       "      <th>date</th>\n",
       "      <th></th>\n",
       "      <th></th>\n",
       "    </tr>\n",
       "  </thead>\n",
       "  <tbody>\n",
       "    <tr>\n",
       "      <th>2020-01-06</th>\n",
       "      <td>3062.2801</td>\n",
       "      <td>3056.8359</td>\n",
       "    </tr>\n",
       "    <tr>\n",
       "      <th>2020-01-07</th>\n",
       "      <td>3063.7464</td>\n",
       "      <td>3074.0152</td>\n",
       "    </tr>\n",
       "    <tr>\n",
       "      <th>2020-01-08</th>\n",
       "      <td>3058.3585</td>\n",
       "      <td>3037.8525</td>\n",
       "    </tr>\n",
       "    <tr>\n",
       "      <th>2020-01-09</th>\n",
       "      <td>3060.7743</td>\n",
       "      <td>3067.5456</td>\n",
       "    </tr>\n",
       "    <tr>\n",
       "      <th>2020-01-10</th>\n",
       "      <td>3079.0765</td>\n",
       "      <td>3067.8810</td>\n",
       "    </tr>\n",
       "  </tbody>\n",
       "</table>\n",
       "</div>"
      ],
      "text/plain": [
       "                 open      close\n",
       "date                            \n",
       "2020-01-06  3062.2801  3056.8359\n",
       "2020-01-07  3063.7464  3074.0152\n",
       "2020-01-08  3058.3585  3037.8525\n",
       "2020-01-09  3060.7743  3067.5456\n",
       "2020-01-10  3079.0765  3067.8810"
      ]
     },
     "execution_count": 14,
     "metadata": {},
     "output_type": "execute_result"
    }
   ],
   "source": [
    "data1rq.head()"
   ]
  },
  {
   "cell_type": "code",
   "execution_count": 15,
   "metadata": {},
   "outputs": [],
   "source": [
    "data1rq=cleanup(data1rq,data1.columns)"
   ]
  },
  {
   "cell_type": "code",
   "execution_count": 16,
   "metadata": {},
   "outputs": [
    {
     "data": {
      "text/html": [
       "<div>\n",
       "<style scoped>\n",
       "    .dataframe tbody tr th:only-of-type {\n",
       "        vertical-align: middle;\n",
       "    }\n",
       "\n",
       "    .dataframe tbody tr th {\n",
       "        vertical-align: top;\n",
       "    }\n",
       "\n",
       "    .dataframe thead th {\n",
       "        text-align: right;\n",
       "    }\n",
       "</style>\n",
       "<table border=\"1\" class=\"dataframe\">\n",
       "  <thead>\n",
       "    <tr style=\"text-align: right;\">\n",
       "      <th></th>\n",
       "      <th>open</th>\n",
       "      <th>last</th>\n",
       "    </tr>\n",
       "  </thead>\n",
       "  <tbody>\n",
       "    <tr>\n",
       "      <th>0</th>\n",
       "      <td>3062.2801</td>\n",
       "      <td>3056.8359</td>\n",
       "    </tr>\n",
       "    <tr>\n",
       "      <th>1</th>\n",
       "      <td>3063.7464</td>\n",
       "      <td>3074.0152</td>\n",
       "    </tr>\n",
       "    <tr>\n",
       "      <th>2</th>\n",
       "      <td>3058.3585</td>\n",
       "      <td>3037.8525</td>\n",
       "    </tr>\n",
       "    <tr>\n",
       "      <th>3</th>\n",
       "      <td>3060.7743</td>\n",
       "      <td>3067.5456</td>\n",
       "    </tr>\n",
       "    <tr>\n",
       "      <th>4</th>\n",
       "      <td>3079.0765</td>\n",
       "      <td>3067.8810</td>\n",
       "    </tr>\n",
       "  </tbody>\n",
       "</table>\n",
       "</div>"
      ],
      "text/plain": [
       "        open       last\n",
       "0  3062.2801  3056.8359\n",
       "1  3063.7464  3074.0152\n",
       "2  3058.3585  3037.8525\n",
       "3  3060.7743  3067.5456\n",
       "4  3079.0765  3067.8810"
      ]
     },
     "execution_count": 16,
     "metadata": {},
     "output_type": "execute_result"
    }
   ],
   "source": [
    "data1rq.head()"
   ]
  },
  {
   "cell_type": "markdown",
   "metadata": {},
   "source": [
    "使用assert_frame_equal来判断数据是否相同"
   ]
  },
  {
   "cell_type": "code",
   "execution_count": 17,
   "metadata": {},
   "outputs": [],
   "source": [
    "from pandas.testing import assert_frame_equal"
   ]
  },
  {
   "cell_type": "code",
   "execution_count": 18,
   "metadata": {
    "scrolled": true
   },
   "outputs": [],
   "source": [
    "assert_frame_equal(data1, data1rq,check_names=False) \n",
    "# 比较数据是否有不同的值，大致比较，会忽略微小值差异。可通过check_exact=True或check_less_precise= bool or int来修改比较的精细程度\n",
    "# 若无错误提示则两组数据相同"
   ]
  },
  {
   "cell_type": "markdown",
   "metadata": {},
   "source": [
    "无错误提示，两组数据相同。"
   ]
  },
  {
   "cell_type": "markdown",
   "metadata": {},
   "source": [
    " "
   ]
  },
  {
   "cell_type": "markdown",
   "metadata": {},
   "source": [
    "### 二、使用中国宝安股票2020-01-04至2020-05-04的数据作为例子，检验两个数据是否一致"
   ]
  },
  {
   "cell_type": "code",
   "execution_count": 19,
   "metadata": {},
   "outputs": [],
   "source": [
    "sql2='''select * from  cn_stock_quote.daily_quote where code=\"000009\" and type=\"A股\"\n",
    "        and trade_date between \"2020-01-04 00:00:00\" and \"2020-05-04 23:59:59\" '''"
   ]
  },
  {
   "cell_type": "code",
   "execution_count": 20,
   "metadata": {
    "scrolled": true
   },
   "outputs": [
    {
     "name": "stdout",
     "output_type": "stream",
     "text": [
      "success\n"
     ]
    }
   ],
   "source": [
    "data2=retrieve_data(sql2)\n",
    "data2.dropna(axis=1,how='any',inplace=True)"
   ]
  },
  {
   "cell_type": "code",
   "execution_count": 21,
   "metadata": {},
   "outputs": [
    {
     "data": {
      "text/plain": [
       "(75, 28)"
      ]
     },
     "execution_count": 21,
     "metadata": {},
     "output_type": "execute_result"
    }
   ],
   "source": [
    "data2.shape"
   ]
  },
  {
   "cell_type": "code",
   "execution_count": null,
   "metadata": {},
   "outputs": [],
   "source": []
  },
  {
   "cell_type": "code",
   "execution_count": 22,
   "metadata": {},
   "outputs": [],
   "source": [
    "data2rq=rq.get_price('000009.XSHE', start_date='2020-01-04', end_date='2020-05-04', frequency='1d')\n",
    "data2rq.reset_index(inplace=True)"
   ]
  },
  {
   "cell_type": "code",
   "execution_count": 23,
   "metadata": {},
   "outputs": [
    {
     "data": {
      "text/plain": [
       "(77, 10)"
      ]
     },
     "execution_count": 23,
     "metadata": {},
     "output_type": "execute_result"
    }
   ],
   "source": [
    "data2rq.shape"
   ]
  },
  {
   "cell_type": "markdown",
   "metadata": {},
   "source": [
    "shape不一致，则首先查找前者缺失的数据"
   ]
  },
  {
   "cell_type": "markdown",
   "metadata": {},
   "source": [
    "构建一个函数比较两组数据，直接输出缺失的行。 由于使用了pd.merge，参数为left，需将条数多的数据至于左边。"
   ]
  },
  {
   "cell_type": "code",
   "execution_count": 25,
   "metadata": {},
   "outputs": [],
   "source": [
    "def anti_join(x, y, left, right):  \n",
    "# 查找其中一组数据的缺失值,行数大的置于左\n",
    "    dfmerge = pd.merge(x, y, how='left', left_on=left, right_on=right)   \n",
    "    diff =  dfmerge[dfmerge.isnull().T.any()]  \n",
    "    return diff"
   ]
  },
  {
   "cell_type": "code",
   "execution_count": 26,
   "metadata": {
    "scrolled": true
   },
   "outputs": [
    {
     "data": {
      "text/html": [
       "<div>\n",
       "<style scoped>\n",
       "    .dataframe tbody tr th:only-of-type {\n",
       "        vertical-align: middle;\n",
       "    }\n",
       "\n",
       "    .dataframe tbody tr th {\n",
       "        vertical-align: top;\n",
       "    }\n",
       "\n",
       "    .dataframe thead th {\n",
       "        text-align: right;\n",
       "    }\n",
       "</style>\n",
       "<table border=\"1\" class=\"dataframe\">\n",
       "  <thead>\n",
       "    <tr style=\"text-align: right;\">\n",
       "      <th></th>\n",
       "      <th>date</th>\n",
       "      <th>volume_x</th>\n",
       "      <th>high_x</th>\n",
       "      <th>close</th>\n",
       "      <th>num_trades</th>\n",
       "      <th>open_x</th>\n",
       "      <th>limit_up</th>\n",
       "      <th>low_x</th>\n",
       "      <th>limit_down</th>\n",
       "      <th>total_turnover</th>\n",
       "      <th>...</th>\n",
       "      <th>amount_original_currency</th>\n",
       "      <th>currency</th>\n",
       "      <th>amount_rmb</th>\n",
       "      <th>turnover_rate</th>\n",
       "      <th>issue_share</th>\n",
       "      <th>float_share</th>\n",
       "      <th>input_time</th>\n",
       "      <th>modify_time</th>\n",
       "      <th>valid</th>\n",
       "      <th>update_stamp</th>\n",
       "    </tr>\n",
       "  </thead>\n",
       "  <tbody>\n",
       "    <tr>\n",
       "      <th>72</th>\n",
       "      <td>2020-04-24</td>\n",
       "      <td>45956445.0</td>\n",
       "      <td>6.41</td>\n",
       "      <td>6.17</td>\n",
       "      <td>21644.0</td>\n",
       "      <td>6.28</td>\n",
       "      <td>6.92</td>\n",
       "      <td>6.14</td>\n",
       "      <td>5.66</td>\n",
       "      <td>287834692.0</td>\n",
       "      <td>...</td>\n",
       "      <td>NaN</td>\n",
       "      <td>NaN</td>\n",
       "      <td>NaN</td>\n",
       "      <td>NaN</td>\n",
       "      <td>NaN</td>\n",
       "      <td>NaN</td>\n",
       "      <td>NaT</td>\n",
       "      <td>NaT</td>\n",
       "      <td>NaN</td>\n",
       "      <td>NaN</td>\n",
       "    </tr>\n",
       "    <tr>\n",
       "      <th>75</th>\n",
       "      <td>2020-04-29</td>\n",
       "      <td>67959741.0</td>\n",
       "      <td>6.44</td>\n",
       "      <td>6.28</td>\n",
       "      <td>31427.0</td>\n",
       "      <td>6.40</td>\n",
       "      <td>7.18</td>\n",
       "      <td>6.21</td>\n",
       "      <td>5.88</td>\n",
       "      <td>429545554.0</td>\n",
       "      <td>...</td>\n",
       "      <td>NaN</td>\n",
       "      <td>NaN</td>\n",
       "      <td>NaN</td>\n",
       "      <td>NaN</td>\n",
       "      <td>NaN</td>\n",
       "      <td>NaN</td>\n",
       "      <td>NaT</td>\n",
       "      <td>NaT</td>\n",
       "      <td>NaN</td>\n",
       "      <td>NaN</td>\n",
       "    </tr>\n",
       "  </tbody>\n",
       "</table>\n",
       "<p>2 rows × 38 columns</p>\n",
       "</div>"
      ],
      "text/plain": [
       "         date    volume_x  high_x  close  num_trades  open_x  limit_up  low_x  \\\n",
       "72 2020-04-24  45956445.0    6.41   6.17     21644.0    6.28      6.92   6.14   \n",
       "75 2020-04-29  67959741.0    6.44   6.28     31427.0    6.40      7.18   6.21   \n",
       "\n",
       "    limit_down  total_turnover  ...  amount_original_currency currency  \\\n",
       "72        5.66     287834692.0  ...                       NaN      NaN   \n",
       "75        5.88     429545554.0  ...                       NaN      NaN   \n",
       "\n",
       "   amount_rmb turnover_rate issue_share float_share  input_time  modify_time  \\\n",
       "72        NaN           NaN         NaN         NaN         NaT          NaT   \n",
       "75        NaN           NaN         NaN         NaN         NaT          NaT   \n",
       "\n",
       "    valid  update_stamp  \n",
       "72    NaN           NaN  \n",
       "75    NaN           NaN  \n",
       "\n",
       "[2 rows x 38 columns]"
      ]
     },
     "execution_count": 26,
     "metadata": {},
     "output_type": "execute_result"
    }
   ],
   "source": [
    "df_lost=anti_join(data2rq,data2,'date','trade_date')\n",
    "df_lost"
   ]
  },
  {
   "cell_type": "markdown",
   "metadata": {
    "scrolled": true
   },
   "source": [
    "删除这两行之后，选取需要比较的数据来进行比较，判断剩余的数据是否一致："
   ]
  },
  {
   "cell_type": "code",
   "execution_count": 27,
   "metadata": {
    "scrolled": true
   },
   "outputs": [],
   "source": [
    "data2=data2[['open','last']]\n",
    "data2rq=data2rq[['open','close']].drop(df_lost.index)"
   ]
  },
  {
   "cell_type": "code",
   "execution_count": 28,
   "metadata": {},
   "outputs": [],
   "source": [
    "data2rq=cleanup(data2rq,data2.columns)"
   ]
  },
  {
   "cell_type": "code",
   "execution_count": 29,
   "metadata": {},
   "outputs": [],
   "source": [
    "assert_frame_equal(data2, data2rq,check_names=False)"
   ]
  },
  {
   "cell_type": "markdown",
   "metadata": {},
   "source": [
    "无报错，则证明两组数据除了RiceQuant多出了两行数据之外，其他均一致。"
   ]
  },
  {
   "cell_type": "code",
   "execution_count": 40,
   "metadata": {},
   "outputs": [],
   "source": []
  },
  {
   "cell_type": "markdown",
   "metadata": {},
   "source": [
    "# 三、总结"
   ]
  },
  {
   "cell_type": "markdown",
   "metadata": {},
   "source": [
    "以上展示了检验两组数据是否一致的大致过程，并使用几个简单的函数来简化。虽然仅使用了两个例子，但不同的数据，检验过程基本一致。且在第二个例子中发现了数据条数不一致的情况。经百度发现4-24与4-29均是交易日，且中国宝安均有交易数据，并未停牌。故初步推测是数据库数据缺失。"
   ]
  },
  {
   "cell_type": "code",
   "execution_count": null,
   "metadata": {},
   "outputs": [],
   "source": []
  },
  {
   "cell_type": "code",
   "execution_count": null,
   "metadata": {},
   "outputs": [],
   "source": []
  }
 ],
 "metadata": {
  "kernelspec": {
   "display_name": "Python 3",
   "language": "python",
   "name": "python3"
  },
  "language_info": {
   "codemirror_mode": {
    "name": "ipython",
    "version": 3
   },
   "file_extension": ".py",
   "mimetype": "text/x-python",
   "name": "python",
   "nbconvert_exporter": "python",
   "pygments_lexer": "ipython3",
   "version": "3.7.3"
  }
 },
 "nbformat": 4,
 "nbformat_minor": 2
}
